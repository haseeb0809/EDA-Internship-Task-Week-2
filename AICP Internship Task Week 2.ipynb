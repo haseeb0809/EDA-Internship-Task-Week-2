{
 "cells": [
  {
   "cell_type": "code",
   "execution_count": 2,
   "metadata": {},
   "outputs": [],
   "source": [
    "import pandas as pd\n",
    "import numpy as np"
   ]
  },
  {
   "cell_type": "code",
   "execution_count": 3,
   "metadata": {},
   "outputs": [
    {
     "name": "stdout",
     "output_type": "stream",
     "text": [
      "a    1\n",
      "x    4\n",
      "c    9\n",
      "2    6\n",
      "e    7\n",
      "dtype: int64\n"
     ]
    }
   ],
   "source": [
    "index = ['a', 'x', 'c', '2', 'e']\n",
    "values = [1, 4, 9, 6, 7]\n",
    "\n",
    "series = pd.Series(values, index=index)\n",
    "print(series)"
   ]
  },
  {
   "cell_type": "code",
   "execution_count": 4,
   "metadata": {},
   "outputs": [
    {
     "name": "stdout",
     "output_type": "stream",
     "text": [
      "Bilal     42\n",
      "Ayesha    38\n",
      "Hadia     39\n",
      "dtype: int64\n"
     ]
    }
   ],
   "source": [
    "index=[\"Bilal\",\"Ayesha\",\"Hadia\"]\n",
    "value=[42,38,39]\n",
    "Series=pd.Series(value,index=index)\n",
    "print(Series)"
   ]
  },
  {
   "cell_type": "code",
   "execution_count": 5,
   "metadata": {},
   "outputs": [
    {
     "data": {
      "text/html": [
       "<div>\n",
       "<style scoped>\n",
       "    .dataframe tbody tr th:only-of-type {\n",
       "        vertical-align: middle;\n",
       "    }\n",
       "\n",
       "    .dataframe tbody tr th {\n",
       "        vertical-align: top;\n",
       "    }\n",
       "\n",
       "    .dataframe thead th {\n",
       "        text-align: right;\n",
       "    }\n",
       "</style>\n",
       "<table border=\"1\" class=\"dataframe\">\n",
       "  <thead>\n",
       "    <tr style=\"text-align: right;\">\n",
       "      <th></th>\n",
       "      <th>day</th>\n",
       "      <th>temprature</th>\n",
       "      <th>windspeed</th>\n",
       "      <th>evevt</th>\n",
       "    </tr>\n",
       "  </thead>\n",
       "  <tbody>\n",
       "    <tr>\n",
       "      <th>0</th>\n",
       "      <td>1/1/2017</td>\n",
       "      <td>32</td>\n",
       "      <td>6</td>\n",
       "      <td>Rain</td>\n",
       "    </tr>\n",
       "    <tr>\n",
       "      <th>1</th>\n",
       "      <td>1/2/2017</td>\n",
       "      <td>35</td>\n",
       "      <td>7</td>\n",
       "      <td>Sunny</td>\n",
       "    </tr>\n",
       "    <tr>\n",
       "      <th>2</th>\n",
       "      <td>1/3/2017</td>\n",
       "      <td>28</td>\n",
       "      <td>2</td>\n",
       "      <td>Snow</td>\n",
       "    </tr>\n",
       "    <tr>\n",
       "      <th>3</th>\n",
       "      <td>1/4/2017</td>\n",
       "      <td>24</td>\n",
       "      <td>7</td>\n",
       "      <td>Snow</td>\n",
       "    </tr>\n",
       "    <tr>\n",
       "      <th>4</th>\n",
       "      <td>1/5/2017</td>\n",
       "      <td>32</td>\n",
       "      <td>4</td>\n",
       "      <td>Rain</td>\n",
       "    </tr>\n",
       "    <tr>\n",
       "      <th>5</th>\n",
       "      <td>1/6/2017</td>\n",
       "      <td>31</td>\n",
       "      <td>2</td>\n",
       "      <td>Sunny</td>\n",
       "    </tr>\n",
       "  </tbody>\n",
       "</table>\n",
       "</div>"
      ],
      "text/plain": [
       "        day  temprature  windspeed  evevt\n",
       "0  1/1/2017          32          6   Rain\n",
       "1  1/2/2017          35          7  Sunny\n",
       "2  1/3/2017          28          2   Snow\n",
       "3  1/4/2017          24          7   Snow\n",
       "4  1/5/2017          32          4   Rain\n",
       "5  1/6/2017          31          2  Sunny"
      ]
     },
     "execution_count": 5,
     "metadata": {},
     "output_type": "execute_result"
    }
   ],
   "source": [
    "df=pd.DataFrame({\n",
    "    \"day\":[\"1/1/2017\",\"1/2/2017\",\"1/3/2017\",\"1/4/2017\",\"1/5/2017\",\"1/6/2017\"],\n",
    "    \"temprature\":[32,35,28,24,32,31],\n",
    "    \"windspeed\":[6,7,2,7,4,2],\n",
    "    \"evevt\":[\"Rain\",\"Sunny\",\"Snow\",\"Snow\",\"Rain\",\"Sunny\"]\n",
    "})\n",
    "df"
   ]
  },
  {
   "cell_type": "code",
   "execution_count": 6,
   "metadata": {},
   "outputs": [
    {
     "data": {
      "text/html": [
       "<div>\n",
       "<style scoped>\n",
       "    .dataframe tbody tr th:only-of-type {\n",
       "        vertical-align: middle;\n",
       "    }\n",
       "\n",
       "    .dataframe tbody tr th {\n",
       "        vertical-align: top;\n",
       "    }\n",
       "\n",
       "    .dataframe thead th {\n",
       "        text-align: right;\n",
       "    }\n",
       "</style>\n",
       "<table border=\"1\" class=\"dataframe\">\n",
       "  <thead>\n",
       "    <tr style=\"text-align: right;\">\n",
       "      <th></th>\n",
       "      <th>day</th>\n",
       "      <th>temprature</th>\n",
       "      <th>windspeed</th>\n",
       "      <th>evevt</th>\n",
       "    </tr>\n",
       "  </thead>\n",
       "  <tbody>\n",
       "    <tr>\n",
       "      <th>a</th>\n",
       "      <td>1/1/2017</td>\n",
       "      <td>32</td>\n",
       "      <td>6</td>\n",
       "      <td>Rain</td>\n",
       "    </tr>\n",
       "    <tr>\n",
       "      <th>b</th>\n",
       "      <td>1/2/2017</td>\n",
       "      <td>35</td>\n",
       "      <td>7</td>\n",
       "      <td>Sunny</td>\n",
       "    </tr>\n",
       "    <tr>\n",
       "      <th>c</th>\n",
       "      <td>1/3/2017</td>\n",
       "      <td>28</td>\n",
       "      <td>2</td>\n",
       "      <td>Snow</td>\n",
       "    </tr>\n",
       "    <tr>\n",
       "      <th>d</th>\n",
       "      <td>1/4/2017</td>\n",
       "      <td>24</td>\n",
       "      <td>7</td>\n",
       "      <td>Snow</td>\n",
       "    </tr>\n",
       "    <tr>\n",
       "      <th>e</th>\n",
       "      <td>1/5/2017</td>\n",
       "      <td>32</td>\n",
       "      <td>4</td>\n",
       "      <td>Rain</td>\n",
       "    </tr>\n",
       "    <tr>\n",
       "      <th>f</th>\n",
       "      <td>1/6/2017</td>\n",
       "      <td>31</td>\n",
       "      <td>2</td>\n",
       "      <td>Sunny</td>\n",
       "    </tr>\n",
       "  </tbody>\n",
       "</table>\n",
       "</div>"
      ],
      "text/plain": [
       "        day  temprature  windspeed  evevt\n",
       "a  1/1/2017          32          6   Rain\n",
       "b  1/2/2017          35          7  Sunny\n",
       "c  1/3/2017          28          2   Snow\n",
       "d  1/4/2017          24          7   Snow\n",
       "e  1/5/2017          32          4   Rain\n",
       "f  1/6/2017          31          2  Sunny"
      ]
     },
     "execution_count": 6,
     "metadata": {},
     "output_type": "execute_result"
    }
   ],
   "source": [
    "df.index=('a','b','c','d','e','f')\n",
    "df"
   ]
  },
  {
   "cell_type": "code",
   "execution_count": 7,
   "metadata": {},
   "outputs": [
    {
     "name": "stdout",
     "output_type": "stream",
     "text": [
      "Mean: 30.333333333333332\n"
     ]
    }
   ],
   "source": [
    "tem_mean=df.temprature.mean()\n",
    "print(\"Mean:\",tem_mean)"
   ]
  },
  {
   "cell_type": "code",
   "execution_count": 8,
   "metadata": {},
   "outputs": [
    {
     "name": "stdout",
     "output_type": "stream",
     "text": [
      "Maximum_tem: 35\n"
     ]
    }
   ],
   "source": [
    "tem_max=df.temprature.max()\n",
    "print(\"Maximum_tem:\",tem_max)"
   ]
  },
  {
   "cell_type": "code",
   "execution_count": 9,
   "metadata": {},
   "outputs": [
    {
     "name": "stdout",
     "output_type": "stream",
     "text": [
      "Minimum_tem: 24\n"
     ]
    }
   ],
   "source": [
    "tem_min=df.temprature.min()\n",
    "print(\"Minimum_tem:\",tem_min)"
   ]
  },
  {
   "cell_type": "code",
   "execution_count": 10,
   "metadata": {},
   "outputs": [],
   "source": [
    "df1=pd.read_csv(\"people.csv\")"
   ]
  },
  {
   "cell_type": "code",
   "execution_count": 17,
   "metadata": {},
   "outputs": [
    {
     "data": {
      "text/html": [
       "<div>\n",
       "<style scoped>\n",
       "    .dataframe tbody tr th:only-of-type {\n",
       "        vertical-align: middle;\n",
       "    }\n",
       "\n",
       "    .dataframe tbody tr th {\n",
       "        vertical-align: top;\n",
       "    }\n",
       "\n",
       "    .dataframe thead th {\n",
       "        text-align: right;\n",
       "    }\n",
       "</style>\n",
       "<table border=\"1\" class=\"dataframe\">\n",
       "  <thead>\n",
       "    <tr style=\"text-align: right;\">\n",
       "      <th></th>\n",
       "      <th></th>\n",
       "      <th>First Name</th>\n",
       "      <th>Email</th>\n",
       "      <th>Phone</th>\n",
       "    </tr>\n",
       "    <tr>\n",
       "      <th>Sex</th>\n",
       "      <th>Job Title</th>\n",
       "      <th></th>\n",
       "      <th></th>\n",
       "      <th></th>\n",
       "    </tr>\n",
       "  </thead>\n",
       "  <tbody>\n",
       "    <tr>\n",
       "      <th>Female</th>\n",
       "      <th>Phytotherapist</th>\n",
       "      <td>Phillip</td>\n",
       "      <td>bethany14@example.com</td>\n",
       "      <td>214.112.6044x4913</td>\n",
       "    </tr>\n",
       "    <tr>\n",
       "      <th rowspan=\"3\" valign=\"top\">Male</th>\n",
       "      <th>Homeopath</th>\n",
       "      <td>Kristine</td>\n",
       "      <td>bthompson@example.com</td>\n",
       "      <td>277.609.7938</td>\n",
       "    </tr>\n",
       "    <tr>\n",
       "      <th>Market researcher</th>\n",
       "      <td>Yesenia</td>\n",
       "      <td>kaitlinkaiser@example.com</td>\n",
       "      <td>584.094.6111</td>\n",
       "    </tr>\n",
       "    <tr>\n",
       "      <th>Waste management officer</th>\n",
       "      <td>Erin</td>\n",
       "      <td>tconner@example.org</td>\n",
       "      <td>001-171-649-9856x5553</td>\n",
       "    </tr>\n",
       "    <tr>\n",
       "      <th rowspan=\"4\" valign=\"top\">Female</th>\n",
       "      <th>Intelligence analyst</th>\n",
       "      <td>Katherine</td>\n",
       "      <td>conniecowan@example.com</td>\n",
       "      <td>+1-773-151-6685x49162</td>\n",
       "    </tr>\n",
       "    <tr>\n",
       "      <th>...</th>\n",
       "      <td>...</td>\n",
       "      <td>...</td>\n",
       "      <td>...</td>\n",
       "    </tr>\n",
       "    <tr>\n",
       "      <th>Software engineer</th>\n",
       "      <td>Dennis</td>\n",
       "      <td>bmartin@example.org</td>\n",
       "      <td>001-095-524-2112x257</td>\n",
       "    </tr>\n",
       "    <tr>\n",
       "      <th>Barrister</th>\n",
       "      <td>Steve</td>\n",
       "      <td>latasha46@example.net</td>\n",
       "      <td>001-865-478-5157</td>\n",
       "    </tr>\n",
       "    <tr>\n",
       "      <th>Male</th>\n",
       "      <th>Police officer</th>\n",
       "      <td>Wesley</td>\n",
       "      <td>regina11@example.org</td>\n",
       "      <td>995-542-3004x76800</td>\n",
       "    </tr>\n",
       "    <tr>\n",
       "      <th>Female</th>\n",
       "      <th>Broadcast journalist</th>\n",
       "      <td>Summer</td>\n",
       "      <td>alexiscantrell@example.org</td>\n",
       "      <td>001-273-685-6932x092</td>\n",
       "    </tr>\n",
       "    <tr>\n",
       "      <th>Male</th>\n",
       "      <th>IT sales professional</th>\n",
       "      <td>Mariah</td>\n",
       "      <td>pcopeland@example.org</td>\n",
       "      <td>(341)594-6554x44657</td>\n",
       "    </tr>\n",
       "  </tbody>\n",
       "</table>\n",
       "<p>98 rows × 3 columns</p>\n",
       "</div>"
      ],
      "text/plain": [
       "                                First Name                       Email  \\\n",
       "Sex    Job Title                                                         \n",
       "Female Phytotherapist              Phillip       bethany14@example.com   \n",
       "Male   Homeopath                  Kristine       bthompson@example.com   \n",
       "       Market researcher           Yesenia   kaitlinkaiser@example.com   \n",
       "       Waste management officer       Erin         tconner@example.org   \n",
       "Female Intelligence analyst      Katherine     conniecowan@example.com   \n",
       "...                                    ...                         ...   \n",
       "       Software engineer            Dennis         bmartin@example.org   \n",
       "       Barrister                     Steve       latasha46@example.net   \n",
       "Male   Police officer               Wesley        regina11@example.org   \n",
       "Female Broadcast journalist         Summer  alexiscantrell@example.org   \n",
       "Male   IT sales professional        Mariah       pcopeland@example.org   \n",
       "\n",
       "                                                 Phone  \n",
       "Sex    Job Title                                        \n",
       "Female Phytotherapist                214.112.6044x4913  \n",
       "Male   Homeopath                          277.609.7938  \n",
       "       Market researcher                  584.094.6111  \n",
       "       Waste management officer  001-171-649-9856x5553  \n",
       "Female Intelligence analyst      +1-773-151-6685x49162  \n",
       "...                                                ...  \n",
       "       Software engineer          001-095-524-2112x257  \n",
       "       Barrister                      001-865-478-5157  \n",
       "Male   Police officer               995-542-3004x76800  \n",
       "Female Broadcast journalist       001-273-685-6932x092  \n",
       "Male   IT sales professional       (341)594-6554x44657  \n",
       "\n",
       "[98 rows x 3 columns]"
      ]
     },
     "execution_count": 17,
     "metadata": {},
     "output_type": "execute_result"
    }
   ],
   "source": [
    "# Importing CSV and specifying columns to import\n",
    "import_columns=[\"First Name\", \"Sex\", \"Email\", \"Phone\", \"Job Title\"]\n",
    "df=pd.read_csv('people.csv',usecols=import_columns,skiprows=[1,5])\n",
    "# Setting 'Sex' and 'Job Title' as index columns\n",
    "df.set_index([\"Sex\", \"Job Title\"],inplace=True)\n",
    "# Exporting the DataFrame to a new CSV file\n",
    "df.to_csv(\"NewPeople.csv\")\n",
    "df"
   ]
  },
  {
   "cell_type": "markdown",
   "metadata": {},
   "source": [
    "Q.7: Import excel sheet ‘SampleWork.xlsx’ in the given folder. Keep in mind the following instructions:\n",
    "Import sheet 1\n",
    "Import only first and last column from sheet 1\n",
    "Skip row 2 while importing the sheet\n",
    "Set row 2 as header\n",
    "export as new sheet.\n"
   ]
  },
  {
   "cell_type": "code",
   "execution_count": 24,
   "metadata": {},
   "outputs": [],
   "source": [
    "df=pd.read_excel(\"SampleWork.xlsx\",sheet_name=1,usecols=[0,-1],skiprows=[1],header=1)\n",
    "df\n",
    "# Export the DataFrame to a new Excel file with a new sheet\n",
    "df.to_excel('NewSampleWork.xlsx', index=False)\n"
   ]
  },
  {
   "cell_type": "markdown",
   "metadata": {},
   "source": [
    "Q.8"
   ]
  },
  {
   "cell_type": "code",
   "execution_count": 50,
   "metadata": {},
   "outputs": [
    {
     "data": {
      "text/html": [
       "<div>\n",
       "<style scoped>\n",
       "    .dataframe tbody tr th:only-of-type {\n",
       "        vertical-align: middle;\n",
       "    }\n",
       "\n",
       "    .dataframe tbody tr th {\n",
       "        vertical-align: top;\n",
       "    }\n",
       "\n",
       "    .dataframe thead th {\n",
       "        text-align: right;\n",
       "    }\n",
       "</style>\n",
       "<table border=\"1\" class=\"dataframe\">\n",
       "  <thead>\n",
       "    <tr style=\"text-align: right;\">\n",
       "      <th></th>\n",
       "      <th>Name</th>\n",
       "      <th>Age</th>\n",
       "      <th>Address</th>\n",
       "      <th>Qualification</th>\n",
       "      <th>Height</th>\n",
       "    </tr>\n",
       "  </thead>\n",
       "  <tbody>\n",
       "    <tr>\n",
       "      <th>0</th>\n",
       "      <td>Sonia</td>\n",
       "      <td>27</td>\n",
       "      <td>Lahore</td>\n",
       "      <td>Msc</td>\n",
       "      <td>5.1</td>\n",
       "    </tr>\n",
       "    <tr>\n",
       "      <th>1</th>\n",
       "      <td>Bilal</td>\n",
       "      <td>24</td>\n",
       "      <td>Karachi</td>\n",
       "      <td>MA</td>\n",
       "      <td>6.2</td>\n",
       "    </tr>\n",
       "    <tr>\n",
       "      <th>2</th>\n",
       "      <td>Hifza</td>\n",
       "      <td>22</td>\n",
       "      <td>Sialkot</td>\n",
       "      <td>MCA</td>\n",
       "      <td>5.1</td>\n",
       "    </tr>\n",
       "    <tr>\n",
       "      <th>3</th>\n",
       "      <td>kabie</td>\n",
       "      <td>32</td>\n",
       "      <td>Peshawar</td>\n",
       "      <td>Phd</td>\n",
       "      <td>5.2</td>\n",
       "    </tr>\n",
       "    <tr>\n",
       "      <th>4</th>\n",
       "      <td>Jazam</td>\n",
       "      <td>23</td>\n",
       "      <td>lhr</td>\n",
       "      <td>bsc</td>\n",
       "      <td>5.1</td>\n",
       "    </tr>\n",
       "  </tbody>\n",
       "</table>\n",
       "</div>"
      ],
      "text/plain": [
       "    Name  Age   Address Qualification  Height\n",
       "0  Sonia   27    Lahore           Msc     5.1\n",
       "1  Bilal   24   Karachi            MA     6.2\n",
       "2  Hifza   22   Sialkot           MCA     5.1\n",
       "3  kabie   32  Peshawar           Phd     5.2\n",
       "4  Jazam   23       lhr           bsc     5.1"
      ]
     },
     "execution_count": 50,
     "metadata": {},
     "output_type": "execute_result"
    }
   ],
   "source": [
    "AICP_DF=pd.DataFrame({\n",
    "    'Name':['Sonia','Bilal','Hifza','kabie','Jazam'],\n",
    "    'Age':[27,24,22,32,23],\n",
    "    'Address':['Lahore','Karachi','Sialkot','Peshawar','lhr'],\n",
    "    'Qualification':['Msc','MA','MCA','Phd','bsc']\n",
    "})\n",
    "#hifza_row=AICP_DF.loc['Hifza']\n",
    "\n",
    "AICP_DF\n",
    "df1=AICP_DF[['Qualification','Name']]\n",
    "AICP_DF['Height']=[5.1, 6.2, 5.1, 5.2,5.1]\n",
    "AICP_DF.set_index(\"Name\")\n",
    "AICP_DF\n"
   ]
  },
  {
   "cell_type": "code",
   "execution_count": 62,
   "metadata": {},
   "outputs": [
    {
     "name": "stdout",
     "output_type": "stream",
     "text": [
      "    Name  Age  Address Qualification  Height\n",
      "2  Hifza   22  Sialkot           MCA     5.1\n"
     ]
    }
   ],
   "source": [
    "row_hifza = AICP_DF[AICP_DF['Name'] == 'Hifza']\n",
    "print(row_hifza)"
   ]
  },
  {
   "cell_type": "code",
   "execution_count": 65,
   "metadata": {},
   "outputs": [
    {
     "name": "stdout",
     "output_type": "stream",
     "text": [
      "DataFrame after dropping row with index 'Bilal':\n",
      "    Name  Age   Address Qualification  Height\n",
      "0  Sonia   27    Lahore           Msc     5.1\n",
      "2  Hifza   22   Sialkot           MCA     5.1\n",
      "3  kabie   32  Peshawar           Phd     5.2\n",
      "4  Jazam   23       lhr           bsc     5.1\n"
     ]
    }
   ],
   "source": [
    "# Drop row with index “Bilal”\n",
    "AICP_DF_dropped = AICP_DF[AICP_DF['Name'] != 'Bilal']\n",
    "print(\"DataFrame after dropping row with index 'Bilal':\")\n",
    "print(AICP_DF_dropped)"
   ]
  },
  {
   "cell_type": "code",
   "execution_count": 59,
   "metadata": {},
   "outputs": [
    {
     "name": "stdout",
     "output_type": "stream",
     "text": [
      "Name                kabie\n",
      "Age                    32\n",
      "Address          Peshawar\n",
      "Qualification         Phd\n",
      "Height                5.2\n",
      "Name: 3, dtype: object\n"
     ]
    }
   ],
   "source": [
    "row_index_3=AICP_DF.iloc[3]\n",
    "print(row_index_3)"
   ]
  },
  {
   "cell_type": "code",
   "execution_count": 64,
   "metadata": {},
   "outputs": [
    {
     "name": "stdout",
     "output_type": "stream",
     "text": [
      "DataFrame after dropping row with index 'Bilal':\n",
      "    Name  Age   Address Qualification  Height\n",
      "0  Sonia   27    Lahore           Msc     5.1\n",
      "2  Hifza   22   Sialkot           MCA     5.1\n",
      "3  kabie   32  Peshawar           Phd     5.2\n",
      "4  Jazam   23       lhr           bsc     5.1\n"
     ]
    }
   ],
   "source": [
    "# Drop row with index “Bilal”\n",
    "AICP_DF_dropped = AICP_DF[AICP_DF['Name'] != 'Bilal']\n",
    "print(\"DataFrame after dropping row with index 'Bilal':\")\n",
    "print(AICP_DF_dropped)"
   ]
  },
  {
   "cell_type": "code",
   "execution_count": null,
   "metadata": {},
   "outputs": [],
   "source": []
  }
 ],
 "metadata": {
  "kernelspec": {
   "display_name": "Python 3",
   "language": "python",
   "name": "python3"
  },
  "language_info": {
   "codemirror_mode": {
    "name": "ipython",
    "version": 3
   },
   "file_extension": ".py",
   "mimetype": "text/x-python",
   "name": "python",
   "nbconvert_exporter": "python",
   "pygments_lexer": "ipython3",
   "version": "3.12.1"
  }
 },
 "nbformat": 4,
 "nbformat_minor": 2
}
